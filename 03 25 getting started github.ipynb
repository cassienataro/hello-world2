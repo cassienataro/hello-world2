{
 "cells": [
  {
   "cell_type": "markdown",
   "metadata": {
    "ExecuteTime": {
     "end_time": "2021-03-25T16:45:52.914196Z",
     "start_time": "2021-03-25T16:45:45.012554Z"
    }
   },
   "source": [
    "## Creating a repository\n",
    "\n",
    "We start by creating a repository.\n",
    "\n",
    "A repository is usually used to organize a single project. Repositories can contain folders and files, images, videos, spreadsheets, and data sets - anything your project needs."
   ]
  },
  {
   "cell_type": "markdown",
   "metadata": {},
   "source": [
    "1. In the upper right corner, next to your avatar or identicon, click + and then select New repository.\n",
    "\n"
   ]
  },
  {
   "cell_type": "markdown",
   "metadata": {
    "ExecuteTime": {
     "end_time": "2021-03-25T17:03:50.239045Z",
     "start_time": "2021-03-25T17:03:50.232065Z"
    }
   },
   "source": [
    "2. Name your repository \"hello-world\".\n"
   ]
  },
  {
   "cell_type": "markdown",
   "metadata": {},
   "source": [
    "3. Write a short description.\n"
   ]
  },
  {
   "cell_type": "markdown",
   "metadata": {},
   "source": [
    "4. Select \"Initialize this repository with a README\"."
   ]
  },
  {
   "cell_type": "markdown",
   "metadata": {},
   "source": [
    "## Create a Branch"
   ]
  },
  {
   "cell_type": "markdown",
   "metadata": {},
   "source": [
    "Branching is the way to work on different versions of a repository at one time.\n",
    "\n",
    "By default your repository has one branch named main which is considered to be the definitive branch. We use branches to experiment and make edits before committing them to main.\n",
    "\n",
    "When you create a branch off the main branch, you’re making a copy, or snapshot, of main as it was at that point in time. If someone else made changes to the main branch while you were working on your branch, you could pull in those updates."
   ]
  },
  {
   "cell_type": "markdown",
   "metadata": {},
   "source": [
    "1. Go to your new repository \"hello-world\".\n",
    "\n",
    "2. Click the drop down at the top of the file list that says \"main\".\n",
    "\n",
    "3. Type a branch name, \"readme-edits\", into the new branch text box.\n",
    "\n",
    "4. Select the \"Create branch\" box or hit “Enter” on your keyboard."
   ]
  },
  {
   "cell_type": "markdown",
   "metadata": {},
   "source": [
    "Now you have two branches, main and readme-edits. They look exactly the same, but we'll add our changes to the new branch."
   ]
  },
  {
   "cell_type": "markdown",
   "metadata": {},
   "source": [
    "## Make and commit Changes"
   ]
  },
  {
   "cell_type": "markdown",
   "metadata": {},
   "source": [
    "We will make some edits to the readme-edits branch, which is a copy of main. \n",
    "\n",
    "On GitHub, saved changes are called commits. \n",
    "\n",
    "Each commit has an associated commit message, which is a description explaining why a particular change was made. \n",
    "\n",
    "Commit messages capture the history of your changes, so other contributors can understand what you’ve done and why."
   ]
  },
  {
   "cell_type": "markdown",
   "metadata": {},
   "source": [
    "1. Click the README.md file.\n",
    "\n",
    "\n",
    "2. Click the  pencil icon in the upper right corner of the file view to edit.\n",
    "\n",
    "\n",
    "3. In the editor, write a bit about yourself.\n",
    "\n",
    "\n",
    "4. Write a commit message that describes your changes.\n",
    "\n",
    "\n",
    "5. Click \"Commit changes\" button."
   ]
  },
  {
   "cell_type": "markdown",
   "metadata": {},
   "source": [
    "These changes will be made to just the README file on your readme-edits branch, so now this branch contains content that’s different from main."
   ]
  },
  {
   "cell_type": "markdown",
   "metadata": {},
   "source": [
    "## Open a Pull Request"
   ]
  },
  {
   "cell_type": "markdown",
   "metadata": {},
   "source": [
    "Now that you have changes in a branch off of main, you can open a pull request.\n",
    "\n",
    "Pull Requests are the heart of collaboration on GitHub. When you open a pull request, you’re proposing your changes and requesting that someone review and pull in your contribution and merge them into their branch. Pull requests show diffs, or differences, of the content from both branches. \n",
    "\n",
    "The changes, additions, and subtractions are shown in green and red."
   ]
  },
  {
   "cell_type": "markdown",
   "metadata": {},
   "source": [
    "As soon as you make a commit, you can open a pull request and start a discussion, even before the code is finished.\n",
    "\n",
    "By using GitHub’s @mention system in your pull request message, you can ask for feedback from specific people or teams.\n",
    "\n",
    "You can even open pull requests in your own repository and merge them yourself. It’s a great way to learn the GitHub flow before working on larger projects."
   ]
  },
  {
   "cell_type": "markdown",
   "metadata": {},
   "source": [
    "1. Click the  Pull Request tab, then from the Pull Request page, click the green New pull request button."
   ]
  },
  {
   "cell_type": "markdown",
   "metadata": {},
   "source": [
    "2. In the Example Comparisons box, select the branch you made, readme-edits, to compare with main (the original)."
   ]
  },
  {
   "cell_type": "markdown",
   "metadata": {},
   "source": [
    "3. Look over your changes in the diffs on the Compare page, make sure they’re what you want to submit."
   ]
  },
  {
   "cell_type": "markdown",
   "metadata": {},
   "source": [
    "4. When you’re satisfied that these are the changes you want to submit, click the big green Create Pull Request button."
   ]
  },
  {
   "cell_type": "markdown",
   "metadata": {},
   "source": [
    "5. Give your pull request a title and write a brief description of your changes."
   ]
  },
  {
   "cell_type": "markdown",
   "metadata": {},
   "source": [
    "6. When you’re done with your message, click Create pull request."
   ]
  },
  {
   "cell_type": "markdown",
   "metadata": {},
   "source": [
    "## Merge your Pull Request"
   ]
  },
  {
   "cell_type": "markdown",
   "metadata": {},
   "source": [
    "In this final step, it’s time to bring your changes together – merging your readme-edits branch into the main branch."
   ]
  },
  {
   "cell_type": "markdown",
   "metadata": {},
   "source": [
    "1. Click the green Merge pull request button to merge the changes into main."
   ]
  },
  {
   "cell_type": "markdown",
   "metadata": {},
   "source": [
    "2. Click Confirm merge"
   ]
  },
  {
   "cell_type": "markdown",
   "metadata": {},
   "source": [
    "3. Go ahead and delete the branch, since its changes have been incorporated, with the Delete branch button in the purple box."
   ]
  },
  {
   "cell_type": "code",
   "execution_count": null,
   "metadata": {},
   "outputs": [],
   "source": []
  }
 ],
 "metadata": {
  "kernelspec": {
   "display_name": "Python 3",
   "language": "python",
   "name": "python3"
  },
  "language_info": {
   "codemirror_mode": {
    "name": "ipython",
    "version": 3
   },
   "file_extension": ".py",
   "mimetype": "text/x-python",
   "name": "python",
   "nbconvert_exporter": "python",
   "pygments_lexer": "ipython3",
   "version": "3.7.6"
  },
  "varInspector": {
   "cols": {
    "lenName": 16,
    "lenType": 16,
    "lenVar": 40
   },
   "kernels_config": {
    "python": {
     "delete_cmd_postfix": "",
     "delete_cmd_prefix": "del ",
     "library": "var_list.py",
     "varRefreshCmd": "print(var_dic_list())"
    },
    "r": {
     "delete_cmd_postfix": ") ",
     "delete_cmd_prefix": "rm(",
     "library": "var_list.r",
     "varRefreshCmd": "cat(var_dic_list()) "
    }
   },
   "types_to_exclude": [
    "module",
    "function",
    "builtin_function_or_method",
    "instance",
    "_Feature"
   ],
   "window_display": false
  }
 },
 "nbformat": 4,
 "nbformat_minor": 4
}
